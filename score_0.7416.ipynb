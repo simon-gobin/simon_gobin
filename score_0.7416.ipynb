{
 "cells": [
  {
   "cell_type": "code",
   "execution_count": 1,
   "id": "512c0884",
   "metadata": {},
   "outputs": [],
   "source": [
    "import pandas as pd\n",
    "import plotly.express as px\n",
    "import matplotlib.pyplot as plt"
   ]
  },
  {
   "cell_type": "code",
   "execution_count": 2,
   "id": "04a6ef33",
   "metadata": {},
   "outputs": [],
   "source": [
    "test = pd.read_csv('test.csv')\n",
    "train = pd.read_csv('train.csv')\n",
    "gender = pd.read_csv('gender_submission.csv')"
   ]
  },
  {
   "cell_type": "code",
   "execution_count": 3,
   "id": "ca2a6b3b",
   "metadata": {},
   "outputs": [],
   "source": [
    "def surviving_score(train):\n",
    "    # Define influencing parameters\n",
    "    influence_params = ['Sex', 'SibSp', 'Parch', 'Fare Group', 'Age Group','Pclass']\n",
    "    \n",
    "    train['Age'] =  train['Age'].fillna(value = 101 )\n",
    "    \n",
    "    # Create age groups for 'Age'\n",
    "    train['Age Group'] = pd.cut(train['Age'], bins=list(range(0, 103)), labels=False, right=False)\n",
    "    \n",
    "    # Create fare groups for 'Fare'\n",
    "    train['Fare Group'] = pd.cut(train['Fare'], bins=list(range(0, 5000, 2)), labels=False, right=False)\n",
    "\n",
    "    # Dictionary to store survival rates for each category in each parameter\n",
    "    survival_rates = {}\n",
    "\n",
    "    for param in influence_params:\n",
    "        survival_rates[param] = train.groupby(param)['Survived'].mean()\n",
    "\n",
    "    survival_rates_df = pd.DataFrame([(key, var, val) for key, series in survival_rates.items() for var, val in series.items()], columns=['Parameter', 'Category', 'Survival Rate'])\n",
    "\n",
    "    return survival_rates_df\n",
    "\n"
   ]
  },
  {
   "cell_type": "code",
   "execution_count": 4,
   "id": "f61a6b8e",
   "metadata": {},
   "outputs": [],
   "source": [
    "def final_calcul(train, survival_rates_df):\n",
    "    influence_params = ['Sex', 'SibSp', 'Parch', 'Fare Group', 'Age Group','Pclass']\n",
    "    \n",
    "    # Create age and fare groups if not already present\n",
    "    train['Age'] =  train['Age'].fillna(value = 101 )\n",
    "    train['Age Group'] = pd.cut(train['Age'], bins=list(range(0, 103)), labels=False, right=False)\n",
    "    train['Fare Group'] = pd.cut(train['Fare'], bins=list(range(0, 5000, 10)), labels=False, right=False)\n",
    "\n",
    "    # Calculate composite survival score for each passenger\n",
    "    for index, row in train.iterrows():\n",
    "        scores = []\n",
    "        for param in influence_params:\n",
    "            # Find the survival rate for the passenger's category in each parameter\n",
    "            category = row[param]\n",
    "            survival_rate = survival_rates_df[(survival_rates_df['Parameter'] == param) & (survival_rates_df['Category'] == category)]['Survival Rate']\n",
    "            \n",
    "            if not survival_rate.empty:\n",
    "                scores.append(survival_rate.iloc[0])\n",
    "        \n",
    "        # Calculate the average score (you might choose a different method)\n",
    "        avg_score = sum(scores) / len(scores) if scores else 0\n",
    "        train.at[index, 'Survival Score'] = avg_score\n",
    "\n",
    "    # Determine survival prediction (you need to decide a threshold)\n",
    "    threshold = 0.40  # Example threshold\n",
    "    train['Survived prediction'] = train['Survival Score'].apply(lambda x: 1 if x >= threshold else 0)\n",
    "    \n",
    "    return train"
   ]
  },
  {
   "cell_type": "code",
   "execution_count": 5,
   "id": "4fd06d52",
   "metadata": {},
   "outputs": [
    {
     "data": {
      "text/html": [
       "<div>\n",
       "<style scoped>\n",
       "    .dataframe tbody tr th:only-of-type {\n",
       "        vertical-align: middle;\n",
       "    }\n",
       "\n",
       "    .dataframe tbody tr th {\n",
       "        vertical-align: top;\n",
       "    }\n",
       "\n",
       "    .dataframe thead th {\n",
       "        text-align: right;\n",
       "    }\n",
       "</style>\n",
       "<table border=\"1\" class=\"dataframe\">\n",
       "  <thead>\n",
       "    <tr style=\"text-align: right;\">\n",
       "      <th></th>\n",
       "      <th>Parameter</th>\n",
       "      <th>Category</th>\n",
       "      <th>Survival Rate</th>\n",
       "    </tr>\n",
       "  </thead>\n",
       "  <tbody>\n",
       "    <tr>\n",
       "      <th>0</th>\n",
       "      <td>Sex</td>\n",
       "      <td>female</td>\n",
       "      <td>0.742038</td>\n",
       "    </tr>\n",
       "    <tr>\n",
       "      <th>1</th>\n",
       "      <td>Sex</td>\n",
       "      <td>male</td>\n",
       "      <td>0.188908</td>\n",
       "    </tr>\n",
       "    <tr>\n",
       "      <th>2</th>\n",
       "      <td>SibSp</td>\n",
       "      <td>0</td>\n",
       "      <td>0.345395</td>\n",
       "    </tr>\n",
       "    <tr>\n",
       "      <th>3</th>\n",
       "      <td>SibSp</td>\n",
       "      <td>1</td>\n",
       "      <td>0.535885</td>\n",
       "    </tr>\n",
       "    <tr>\n",
       "      <th>4</th>\n",
       "      <td>SibSp</td>\n",
       "      <td>2</td>\n",
       "      <td>0.464286</td>\n",
       "    </tr>\n",
       "    <tr>\n",
       "      <th>...</th>\n",
       "      <td>...</td>\n",
       "      <td>...</td>\n",
       "      <td>...</td>\n",
       "    </tr>\n",
       "    <tr>\n",
       "      <th>147</th>\n",
       "      <td>Age Group</td>\n",
       "      <td>80</td>\n",
       "      <td>1.000000</td>\n",
       "    </tr>\n",
       "    <tr>\n",
       "      <th>148</th>\n",
       "      <td>Age Group</td>\n",
       "      <td>101</td>\n",
       "      <td>0.293785</td>\n",
       "    </tr>\n",
       "    <tr>\n",
       "      <th>149</th>\n",
       "      <td>Pclass</td>\n",
       "      <td>1</td>\n",
       "      <td>0.629630</td>\n",
       "    </tr>\n",
       "    <tr>\n",
       "      <th>150</th>\n",
       "      <td>Pclass</td>\n",
       "      <td>2</td>\n",
       "      <td>0.472826</td>\n",
       "    </tr>\n",
       "    <tr>\n",
       "      <th>151</th>\n",
       "      <td>Pclass</td>\n",
       "      <td>3</td>\n",
       "      <td>0.242363</td>\n",
       "    </tr>\n",
       "  </tbody>\n",
       "</table>\n",
       "<p>152 rows × 3 columns</p>\n",
       "</div>"
      ],
      "text/plain": [
       "     Parameter Category  Survival Rate\n",
       "0          Sex   female       0.742038\n",
       "1          Sex     male       0.188908\n",
       "2        SibSp        0       0.345395\n",
       "3        SibSp        1       0.535885\n",
       "4        SibSp        2       0.464286\n",
       "..         ...      ...            ...\n",
       "147  Age Group       80       1.000000\n",
       "148  Age Group      101       0.293785\n",
       "149     Pclass        1       0.629630\n",
       "150     Pclass        2       0.472826\n",
       "151     Pclass        3       0.242363\n",
       "\n",
       "[152 rows x 3 columns]"
      ]
     },
     "execution_count": 5,
     "metadata": {},
     "output_type": "execute_result"
    }
   ],
   "source": [
    "surviving_score = surviving_score(train)\n",
    "surviving_score"
   ]
  },
  {
   "cell_type": "code",
   "execution_count": 6,
   "id": "6f7ac05b",
   "metadata": {},
   "outputs": [
    {
     "ename": "NameError",
     "evalue": "name 'x' is not defined",
     "output_type": "error",
     "traceback": [
      "\u001b[0;31m---------------------------------------------------------------------------\u001b[0m",
      "\u001b[0;31mNameError\u001b[0m                                 Traceback (most recent call last)",
      "Cell \u001b[0;32mIn[6], line 1\u001b[0m\n\u001b[0;32m----> 1\u001b[0m final_calcul \u001b[38;5;241m=\u001b[39m final_calcul(train, x)\n",
      "\u001b[0;31mNameError\u001b[0m: name 'x' is not defined"
     ]
    }
   ],
   "source": [
    "final_calcul = final_calcul(train, x)"
   ]
  },
  {
   "cell_type": "code",
   "execution_count": null,
   "id": "7a30d04d",
   "metadata": {},
   "outputs": [],
   "source": [
    "final_calcul"
   ]
  },
  {
   "cell_type": "code",
   "execution_count": null,
   "id": "3c70137a",
   "metadata": {},
   "outputs": [],
   "source": []
  },
  {
   "cell_type": "code",
   "execution_count": null,
   "id": "5e579aae",
   "metadata": {},
   "outputs": [],
   "source": [
    "output = y[['PassengerId','Survived']]\n",
    "output"
   ]
  },
  {
   "cell_type": "code",
   "execution_count": null,
   "id": "874a6f67",
   "metadata": {},
   "outputs": [],
   "source": [
    "output.to_csv('train_02.csv',index=False)"
   ]
  },
  {
   "cell_type": "code",
   "execution_count": null,
   "id": "2bac0009",
   "metadata": {},
   "outputs": [],
   "source": []
  }
 ],
 "metadata": {
  "kernelspec": {
   "display_name": "Python 3 (ipykernel)",
   "language": "python",
   "name": "python3"
  },
  "language_info": {
   "codemirror_mode": {
    "name": "ipython",
    "version": 3
   },
   "file_extension": ".py",
   "mimetype": "text/x-python",
   "name": "python",
   "nbconvert_exporter": "python",
   "pygments_lexer": "ipython3",
   "version": "3.11.5"
  }
 },
 "nbformat": 4,
 "nbformat_minor": 5
}
